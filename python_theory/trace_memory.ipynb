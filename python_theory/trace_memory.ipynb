{
 "cells": [
  {
   "cell_type": "code",
   "execution_count": null,
   "metadata": {},
   "outputs": [],
   "source": [
    "import tracemalloc\n",
    "tracemalloc.start()\n",
    "\n",
    "# Your code here\n",
    "\n",
    "snapshot = tracemalloc.take_snapshot()\n",
    "top_stats = snapshot.statistics('lineno')\n",
    "\n",
    "for stat in top_stats[:10]:\n",
    "    print(stat)"
   ]
  },
  {
   "cell_type": "markdown",
   "metadata": {},
   "source": [
    "Strategies to Prevent Memory Leaks\n",
    "\n",
    "Weak References: Python’s weakref module allows you to create weak references to objects. These references don't prevent garbage collection, making them useful for caches.\n",
    "\n",
    "Explicit Del: Explicitly deleting variables and setting them to None can sometimes help the garbage collector.\n",
    "\n",
    "Manual Garbage Collection: You can manually run the garbage collector using gc.collect()."
   ]
  }
 ],
 "metadata": {
  "language_info": {
   "name": "python"
  },
  "orig_nbformat": 4
 },
 "nbformat": 4,
 "nbformat_minor": 2
}
