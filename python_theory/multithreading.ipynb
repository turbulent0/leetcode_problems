{
 "cells": [
  {
   "cell_type": "code",
   "execution_count": 10,
   "id": "f216ef7d",
   "metadata": {},
   "outputs": [],
   "source": [
    "import requests\n",
    "import concurrent.futures\n",
    "import time\n",
    "def get_wiki_page_existence(wiki_page_url, timeout=2):\n",
    "    response = requests.get(url=wiki_page_url, timeout=timeout)\n",
    "\n",
    "    page_status = \"unknown\"\n",
    "    if response.status_code == 200:\n",
    "        page_status = \"exists\"\n",
    "    elif response.status_code == 404:\n",
    "        page_status = \"does not exist\"\n",
    "\n",
    "    return wiki_page_url + \" - \" + page_status"
   ]
  },
  {
   "cell_type": "code",
   "execution_count": 17,
   "id": "8a3b0905",
   "metadata": {},
   "outputs": [],
   "source": [
    "import asyncio"
   ]
  },
  {
   "cell_type": "code",
   "execution_count": 18,
   "id": "e6bc836a",
   "metadata": {},
   "outputs": [
    {
     "ename": "AttributeError",
     "evalue": "module 'asyncio' has no attribute 'run'",
     "output_type": "error",
     "traceback": [
      "\u001b[0;31m---------------------------------------------------------------------------\u001b[0m",
      "\u001b[0;31mAttributeError\u001b[0m                            Traceback (most recent call last)",
      "\u001b[0;32m<ipython-input-18-29f4a744d955>\u001b[0m in \u001b[0;36m<module>\u001b[0;34m\u001b[0m\n\u001b[0;32m----> 1\u001b[0;31m \u001b[0masyncio\u001b[0m\u001b[0;34m.\u001b[0m\u001b[0mrun\u001b[0m\u001b[0;34m(\u001b[0m\u001b[0;34m)\u001b[0m\u001b[0;34m\u001b[0m\u001b[0;34m\u001b[0m\u001b[0m\n\u001b[0m",
      "\u001b[0;31mAttributeError\u001b[0m: module 'asyncio' has no attribute 'run'"
     ]
    }
   ],
   "source": [
    "asyncio.run()"
   ]
  },
  {
   "cell_type": "code",
   "execution_count": 4,
   "id": "36fa9ba7",
   "metadata": {},
   "outputs": [
    {
     "name": "stdout",
     "output_type": "stream",
     "text": [
      "https://en.wikipedia.org/wiki/Island - exists\n",
      "https://en.wikipedia.org/wiki/Ocean - exists\n",
      "https://en.wikipedia.org/wiki/Shark - exists\n",
      "https://en.wikipedia.org/wiki/this_page_does_not_exist - does not exist\n"
     ]
    }
   ],
   "source": [
    "wiki_page_urls = [\n",
    "    \"https://en.wikipedia.org/wiki/Ocean\",\n",
    "    \"https://en.wikipedia.org/wiki/Island\",\n",
    "    \"https://en.wikipedia.org/wiki/this_page_does_not_exist\",\n",
    "    \"https://en.wikipedia.org/wiki/Shark\",\n",
    "]\n",
    "with concurrent.futures.ThreadPoolExecutor() as executor:\n",
    "    futures = []\n",
    "    for url in wiki_page_urls:\n",
    "        futures.append(executor.submit(get_wiki_page_existence, wiki_page_url=url))\n",
    "    for future in concurrent.futures.as_completed(futures):\n",
    "        print(future.result())"
   ]
  },
  {
   "cell_type": "code",
   "execution_count": 11,
   "id": "f2acdf3d",
   "metadata": {},
   "outputs": [
    {
     "name": "stdout",
     "output_type": "stream",
     "text": [
      "Running without threads:\n",
      "Without threads time: 13.432823181152344\n"
     ]
    }
   ],
   "source": [
    "wiki_page_urls = [\"https://en.wikipedia.org/wiki/\" + str(i) for i in range(50)]\n",
    "results = []\n",
    "print(\"Running without threads:\")\n",
    "without_threads_start = time.time()\n",
    "for url in wiki_page_urls:\n",
    "    results.append(get_wiki_page_existence(wiki_page_url=url))\n",
    "print(\"Without threads time:\", time.time() - without_threads_start)"
   ]
  },
  {
   "cell_type": "code",
   "execution_count": 16,
   "id": "e341d825",
   "metadata": {},
   "outputs": [
    {
     "name": "stdout",
     "output_type": "stream",
     "text": [
      "Running threaded:\n",
      "https://en.wikipedia.org/wiki/14 - exists\n",
      "https://en.wikipedia.org/wiki/16 - exists\n",
      "https://en.wikipedia.org/wiki/19 - exists\n",
      "https://en.wikipedia.org/wiki/15 - exists\n",
      "https://en.wikipedia.org/wiki/12 - exists\n",
      "https://en.wikipedia.org/wiki/18 - exists\n",
      "https://en.wikipedia.org/wiki/11 - exists\n",
      "https://en.wikipedia.org/wiki/1 - exists\n",
      "https://en.wikipedia.org/wiki/9 - exists\n",
      "https://en.wikipedia.org/wiki/17 - exists\n",
      "https://en.wikipedia.org/wiki/13 - exists\n",
      "https://en.wikipedia.org/wiki/5 - exists\n",
      "https://en.wikipedia.org/wiki/7 - exists\n",
      "https://en.wikipedia.org/wiki/2 - exists\n",
      "https://en.wikipedia.org/wiki/10 - exists\n",
      "https://en.wikipedia.org/wiki/8 - exists\n",
      "https://en.wikipedia.org/wiki/0 - exists\n",
      "https://en.wikipedia.org/wiki/3 - exists\n",
      "https://en.wikipedia.org/wiki/20 - exists\n",
      "https://en.wikipedia.org/wiki/6 - exists\n",
      "https://en.wikipedia.org/wiki/4 - exists\n",
      "https://en.wikipedia.org/wiki/21 - exists\n",
      "https://en.wikipedia.org/wiki/22 - exists\n",
      "https://en.wikipedia.org/wiki/24 - exists\n",
      "https://en.wikipedia.org/wiki/26 - exists\n",
      "https://en.wikipedia.org/wiki/23 - exists\n",
      "https://en.wikipedia.org/wiki/28 - exists\n",
      "https://en.wikipedia.org/wiki/25 - exists\n",
      "https://en.wikipedia.org/wiki/29 - exists\n",
      "https://en.wikipedia.org/wiki/27 - exists\n",
      "https://en.wikipedia.org/wiki/31 - exists\n",
      "https://en.wikipedia.org/wiki/30 - exists\n",
      "https://en.wikipedia.org/wiki/33 - exists\n",
      "https://en.wikipedia.org/wiki/34 - exists\n",
      "https://en.wikipedia.org/wiki/32 - exists\n",
      "https://en.wikipedia.org/wiki/35 - exists\n",
      "https://en.wikipedia.org/wiki/36 - exists\n",
      "https://en.wikipedia.org/wiki/39 - exists\n",
      "https://en.wikipedia.org/wiki/37 - exists\n",
      "https://en.wikipedia.org/wiki/40 - exists\n",
      "https://en.wikipedia.org/wiki/38 - exists\n",
      "https://en.wikipedia.org/wiki/41 - exists\n",
      "https://en.wikipedia.org/wiki/42 - exists\n",
      "https://en.wikipedia.org/wiki/43 - exists\n",
      "https://en.wikipedia.org/wiki/45 - exists\n",
      "https://en.wikipedia.org/wiki/44 - exists\n",
      "https://en.wikipedia.org/wiki/47 - exists\n",
      "https://en.wikipedia.org/wiki/48 - exists\n",
      "https://en.wikipedia.org/wiki/46 - exists\n",
      "https://en.wikipedia.org/wiki/49 - exists\n",
      "Threaded time: 1.0163991451263428\n"
     ]
    }
   ],
   "source": [
    "print(\"Running threaded:\")\n",
    "threaded_start = time.time()\n",
    "with concurrent.futures.ThreadPoolExecutor() as executor:\n",
    "    futures = []\n",
    "    for url in wiki_page_urls:\n",
    "        futures.append(executor.submit(get_wiki_page_existence, wiki_page_url=url))\n",
    "    for future in concurrent.futures.as_completed(futures):\n",
    "        print(future.result())\n",
    "print(\"Threaded time:\", time.time() - threaded_start)"
   ]
  }
 ],
 "metadata": {
  "kernelspec": {
   "display_name": "Python [conda env:prices_eva] *",
   "language": "python",
   "name": "conda-env-prices_eva-py"
  },
  "language_info": {
   "codemirror_mode": {
    "name": "ipython",
    "version": 3
   },
   "file_extension": ".py",
   "mimetype": "text/x-python",
   "name": "python",
   "nbconvert_exporter": "python",
   "pygments_lexer": "ipython3",
   "version": "3.6.13"
  },
  "varInspector": {
   "cols": {
    "lenName": 16,
    "lenType": 16,
    "lenVar": 40
   },
   "kernels_config": {
    "python": {
     "delete_cmd_postfix": "",
     "delete_cmd_prefix": "del ",
     "library": "var_list.py",
     "varRefreshCmd": "print(var_dic_list())"
    },
    "r": {
     "delete_cmd_postfix": ") ",
     "delete_cmd_prefix": "rm(",
     "library": "var_list.r",
     "varRefreshCmd": "cat(var_dic_list()) "
    }
   },
   "types_to_exclude": [
    "module",
    "function",
    "builtin_function_or_method",
    "instance",
    "_Feature"
   ],
   "window_display": false
  }
 },
 "nbformat": 4,
 "nbformat_minor": 5
}
