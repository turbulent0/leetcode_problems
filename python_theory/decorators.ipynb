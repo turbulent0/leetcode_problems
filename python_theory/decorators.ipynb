{
 "cells": [
  {
   "cell_type": "code",
   "execution_count": 62,
   "id": "be5ced34",
   "metadata": {},
   "outputs": [],
   "source": [
    "from datetime import timedelta\n",
    "import pandas as pd"
   ]
  },
  {
   "cell_type": "code",
   "execution_count": 38,
   "id": "5c53bb49",
   "metadata": {},
   "outputs": [],
   "source": [
    "def measure_time(func):\n",
    "    def wrapper(*args, **kwargs):\n",
    "        from time import time\n",
    "        start = time()\n",
    "        result = func(*args, **kwargs)\n",
    "        print(f'Elapsed time is {time() - start} ms')\n",
    "        return result\n",
    "    return wrapper"
   ]
  },
  {
   "cell_type": "code",
   "execution_count": 35,
   "id": "d9415b08",
   "metadata": {},
   "outputs": [],
   "source": [
    "def wrapper(func, *args, **kwargs):\n",
    "    from time import time\n",
    "    start = time()\n",
    "    result = func(*args, **kwargs)\n",
    "    print(f'Elapsed time is {time() - start} ms')\n",
    "    return result"
   ]
  },
  {
   "cell_type": "code",
   "execution_count": 37,
   "id": "3bd38349",
   "metadata": {},
   "outputs": [
    {
     "name": "stdout",
     "output_type": "stream",
     "text": [
      "Elapsed time is 9.5367431640625e-07 ms\n"
     ]
    },
    {
     "data": {
      "text/plain": [
       "7"
      ]
     },
     "execution_count": 37,
     "metadata": {},
     "output_type": "execute_result"
    }
   ],
   "source": [
    "wrapper(add, 2, 5)"
   ]
  },
  {
   "cell_type": "code",
   "execution_count": 17,
   "id": "f0b441ad",
   "metadata": {},
   "outputs": [
    {
     "name": "stdout",
     "output_type": "stream",
     "text": [
      "Elapsed time is 9.5367431640625e-07 ms\n"
     ]
    },
    {
     "data": {
      "text/plain": [
       "7"
      ]
     },
     "execution_count": 17,
     "metadata": {},
     "output_type": "execute_result"
    }
   ],
   "source": [
    "\n",
    "@measure_time\n",
    "def add(x, y):\n",
    "    return x + y\n",
    "\n",
    "add(2, 5)"
   ]
  },
  {
   "cell_type": "code",
   "execution_count": 18,
   "id": "f16eda0f",
   "metadata": {},
   "outputs": [],
   "source": [
    "f = lambda x: 2*x"
   ]
  },
  {
   "cell_type": "code",
   "execution_count": 33,
   "id": "1b9811b3",
   "metadata": {},
   "outputs": [],
   "source": [
    "def wrap(f,*args, **kwargs):\n",
    "    \n",
    "\n",
    "    \n",
    "    return f(*args, **kwargs)+1"
   ]
  },
  {
   "cell_type": "code",
   "execution_count": 34,
   "id": "472ecb3f",
   "metadata": {},
   "outputs": [
    {
     "data": {
      "text/plain": [
       "9"
      ]
     },
     "execution_count": 34,
     "metadata": {},
     "output_type": "execute_result"
    }
   ],
   "source": [
    "wrap(f, 4)"
   ]
  },
  {
   "cell_type": "code",
   "execution_count": 54,
   "id": "eb2bbdaf",
   "metadata": {},
   "outputs": [],
   "source": [
    "def html_tag(tag):\n",
    "    def wrapper(func, *args, **kwargs):\n",
    "        return f\"<{tag}>{func(*args, **kwargs)}</{tag}>\"\n",
    "\n",
    "    return wrapper"
   ]
  },
  {
   "cell_type": "code",
   "execution_count": 52,
   "id": "e1fc18ac",
   "metadata": {},
   "outputs": [],
   "source": [
    "def wrapper(func, *args, **kwargs):\n",
    "    return f\"<>{func(*args, **kwargs)}</>\""
   ]
  },
  {
   "cell_type": "code",
   "execution_count": 53,
   "id": "c6b381c6",
   "metadata": {},
   "outputs": [
    {
     "data": {
      "text/plain": [
       "'<>i livo</>'"
      ]
     },
     "execution_count": 53,
     "metadata": {},
     "output_type": "execute_result"
    }
   ],
   "source": [
    "wrapper(div, 'i livo')"
   ]
  },
  {
   "cell_type": "code",
   "execution_count": 60,
   "id": "44176bb5",
   "metadata": {},
   "outputs": [],
   "source": [
    "step = timedelta(days =1)"
   ]
  },
  {
   "cell_type": "code",
   "execution_count": 65,
   "id": "d7b500c3",
   "metadata": {},
   "outputs": [
    {
     "data": {
      "text/plain": [
       "(19, Timedelta('0 days 12:00:00'))"
      ]
     },
     "execution_count": 65,
     "metadata": {},
     "output_type": "execute_result"
    }
   ],
   "source": [
    "divmod(pd.to_datetime('2022-04-20 12:00:00') - pd.to_datetime('2022-04-01'), step)"
   ]
  },
  {
   "cell_type": "code",
   "execution_count": 70,
   "id": "dc8e12fc",
   "metadata": {},
   "outputs": [
    {
     "name": "stdout",
     "output_type": "stream",
     "text": [
      "{'ExifOffset': 26, 'ExifImageWidth': 153, 'ExifImageHeight': 146, 'UserComment': b'ASCII\\x00\\x00\\x00Screenshot'}\n"
     ]
    }
   ],
   "source": [
    "import PIL.Image\n",
    "import PIL.ExifTags\n",
    "img = PIL.Image.open(\"Screenshot 2021-12-01 at 18.16.59.png\")\n",
    "\n",
    "exif_data =  {\n",
    "    PIL.ExifTags.TAGS[i]: j\n",
    "    for i, j in img._getexif().items()\n",
    "    if i in PIL.ExifTags.TAGS\n",
    "}\n",
    "print(exif_data)"
   ]
  }
 ],
 "metadata": {
  "kernelspec": {
   "display_name": "Python 3",
   "language": "python",
   "name": "python3"
  },
  "language_info": {
   "codemirror_mode": {
    "name": "ipython",
    "version": 3
   },
   "file_extension": ".py",
   "mimetype": "text/x-python",
   "name": "python",
   "nbconvert_exporter": "python",
   "pygments_lexer": "ipython3",
   "version": "3.11.1 (main, Jan 14 2023, 13:06:50) [Clang 12.0.0 (clang-1200.0.32.29)]"
  },
  "varInspector": {
   "cols": {
    "lenName": 16,
    "lenType": 16,
    "lenVar": 40
   },
   "kernels_config": {
    "python": {
     "delete_cmd_postfix": "",
     "delete_cmd_prefix": "del ",
     "library": "var_list.py",
     "varRefreshCmd": "print(var_dic_list())"
    },
    "r": {
     "delete_cmd_postfix": ") ",
     "delete_cmd_prefix": "rm(",
     "library": "var_list.r",
     "varRefreshCmd": "cat(var_dic_list()) "
    }
   },
   "types_to_exclude": [
    "module",
    "function",
    "builtin_function_or_method",
    "instance",
    "_Feature"
   ],
   "window_display": false
  },
  "vscode": {
   "interpreter": {
    "hash": "1a1af0ee75eeea9e2e1ee996c87e7a2b11a0bebd85af04bb136d915cefc0abce"
   }
  }
 },
 "nbformat": 4,
 "nbformat_minor": 5
}
