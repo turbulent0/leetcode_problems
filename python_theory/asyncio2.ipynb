{
 "cells": [
  {
   "cell_type": "code",
   "execution_count": 20,
   "metadata": {},
   "outputs": [
    {
     "name": "stdout",
     "output_type": "stream",
     "text": [
      "test\n",
      "... world\n"
     ]
    }
   ],
   "source": [
    "import asyncio\n",
    "import functools\n",
    "async def callee(fut, word):\n",
    "    await asyncio.sleep(4)\n",
    "    fut.set_result(word )\n",
    "\n",
    "async def caller():\n",
    "    loop = asyncio.get_running_loop()\n",
    "    # Create a new Future object.\n",
    "    fut = loop.create_future()\n",
    "    loop.create_task(callee(fut, '... world'))\n",
    "    # fut.add_done_callback(functools.partial(print, \"Future:\"))\n",
    "    print('test')\n",
    "    await fut\n",
    "    print(fut.result())\n",
    "\n",
    "await caller() # for jupyter notebook, becouse loop is already running in jupyter\n",
    "# asyncio.run(main()) # for py file"
   ]
  },
  {
   "cell_type": "code",
   "execution_count": 10,
   "metadata": {},
   "outputs": [],
   "source": [
    "f = functools.partial(print, \"Future:\")\n",
    "loop = asyncio.get_running_loop()\n",
    "# Create a new Future object.\n",
    "fut = loop.create_future()\n"
   ]
  },
  {
   "cell_type": "code",
   "execution_count": 28,
   "metadata": {},
   "outputs": [],
   "source": [
    "import requests\n",
    "\n",
    "# Define the URL\n",
    "url = 'https://api.bybit.com/v5/market/tickers'\n",
    "\n",
    "# Define the query parameters\n",
    "params = {\n",
    "    'category': 'spot',\n",
    "    'symbol': 'BTCUSDT'\n",
    "}\n",
    "\n",
    "# Make the GET request\n",
    "response = requests.get(url, params=params)\n",
    "result = eval(response.text)[\"result\"][\"list\"][0][\"bid1Price\"]"
   ]
  },
  {
   "cell_type": "code",
   "execution_count": 24,
   "metadata": {},
   "outputs": [
    {
     "data": {
      "text/plain": [
       "'47172'"
      ]
     },
     "execution_count": 24,
     "metadata": {},
     "output_type": "execute_result"
    }
   ],
   "source": [
    "category=\"linear\",\n",
    "symbol=\"ZETAUSDT\",\n",
    "side=\"Sell\",\n",
    "orderType=\"Market\",\n",
    "qty=\"10\",\n",
    "timeInForce='GTC',\n",
    "marketUnit='baseCoin'"
   ]
  },
  {
   "cell_type": "code",
   "execution_count": null,
   "metadata": {},
   "outputs": [],
   "source": [
    "POST /v5/order/create HTTP/1.1\n",
    "Host: api-testnet.bybit.com\n",
    "X-BAPI-SIGN: XXXXX\n",
    "X-BAPI-API-KEY: XXXXX\n",
    "X-BAPI-TIMESTAMP: 1672211928338\n",
    "X-BAPI-RECV-WINDOW: 5000\n",
    "Content-Type: application/json\n",
    "\n",
    "data = {\"category\": \"spot\",\"symbol\": \"ZETAUSDT\",\"side\": \"Buy\",\"orderType\": \"Market\",\"qty\": \"1\",\"timeInForce\": \"GTC\", \"marketUnit\"=\"baseCoin\"}\n"
   ]
  },
  {
   "cell_type": "code",
   "execution_count": 1,
   "metadata": {},
   "outputs": [],
   "source": [
    "import asyncio\n",
    "from aiohttp import ClientSession\n",
    "\n",
    "async def get():\n",
    "    async with ClientSession() as session:\n",
    "        async with session.get('url', timeout=10) as response:\n",
    "            pass\n",
    "\n",
    "async def gather_pages(wiki_page_urls):\n",
    "    async with ClientSession() as session:\n",
    "        tasks = [get(session, url) for url in wiki_page_urls]\n",
    "        return await asyncio.gather(*tasks)"
   ]
  }
 ],
 "metadata": {
  "kernelspec": {
   "display_name": "leetcode",
   "language": "python",
   "name": "python3"
  },
  "language_info": {
   "codemirror_mode": {
    "name": "ipython",
    "version": 3
   },
   "file_extension": ".py",
   "mimetype": "text/x-python",
   "name": "python",
   "nbconvert_exporter": "python",
   "pygments_lexer": "ipython3",
   "version": "3.10.0"
  }
 },
 "nbformat": 4,
 "nbformat_minor": 2
}
