{
 "cells": [
  {
   "cell_type": "code",
   "execution_count": 20,
   "metadata": {},
   "outputs": [
    {
     "name": "stdout",
     "output_type": "stream",
     "text": [
      "test\n",
      "... world\n"
     ]
    }
   ],
   "source": [
    "import asyncio\n",
    "import functools\n",
    "async def callee(fut, word):\n",
    "    await asyncio.sleep(4)\n",
    "    fut.set_result(word )\n",
    "\n",
    "async def caller():\n",
    "    loop = asyncio.get_running_loop()\n",
    "    # Create a new Future object.\n",
    "    fut = loop.create_future()\n",
    "    loop.create_task(callee(fut, '... world'))\n",
    "    # fut.add_done_callback(functools.partial(print, \"Future:\"))\n",
    "    print('test')\n",
    "    await fut\n",
    "    print(fut.result())\n",
    "\n",
    "await caller() # for jupyter notebook, becouse loop is already running in jupyter\n",
    "# asyncio.run(main()) # for py file"
   ]
  },
  {
   "cell_type": "code",
   "execution_count": null,
   "metadata": {},
   "outputs": [],
   "source": [
    "fut."
   ]
  },
  {
   "cell_type": "code",
   "execution_count": 10,
   "metadata": {},
   "outputs": [],
   "source": [
    "f = functools.partial(print, \"Future:\")\n"
   ]
  },
  {
   "cell_type": "code",
   "execution_count": 4,
   "metadata": {},
   "outputs": [],
   "source": [
    "loop = asyncio.get_running_loop()\n",
    "# Create a new Future object.\n",
    "fut = loop.create_future()"
   ]
  }
 ],
 "metadata": {
  "kernelspec": {
   "display_name": "leetcode",
   "language": "python",
   "name": "python3"
  },
  "language_info": {
   "codemirror_mode": {
    "name": "ipython",
    "version": 3
   },
   "file_extension": ".py",
   "mimetype": "text/x-python",
   "name": "python",
   "nbconvert_exporter": "python",
   "pygments_lexer": "ipython3",
   "version": "3.10.0"
  }
 },
 "nbformat": 4,
 "nbformat_minor": 2
}
