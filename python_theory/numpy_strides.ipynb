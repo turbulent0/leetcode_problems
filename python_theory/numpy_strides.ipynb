{
 "cells": [
  {
   "cell_type": "code",
   "execution_count": null,
   "metadata": {},
   "outputs": [],
   "source": [
    "# article https://towardsdatascience.com/advanced-numpy-master-stride-tricks-with-25-illustrated-exercises-923a9393ab20\n",
    "\n",
    "from numpy.lib.stride_tricks import as_strided\n",
    "x = np.asarray(range(1,26), np.int64).reshape(5,5)\n",
    "as_strided(x, shape=(4,2), strides=(48,8))"
   ]
  }
 ],
 "metadata": {
  "language_info": {
   "name": "python"
  },
  "orig_nbformat": 4
 },
 "nbformat": 4,
 "nbformat_minor": 2
}
