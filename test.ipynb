{
 "cells": [
  {
   "cell_type": "code",
   "execution_count": 82,
   "metadata": {},
   "outputs": [],
   "source": [
    "\n",
    "# create binary from list by level traverse\n",
    "nodes_values = [3,1,4,3,None,1,5]\n",
    "class Node:\n",
    "    def __init__(self, val):\n",
    "        self.val = val\n",
    "        self.left = None\n",
    "        self.right = None\n",
    "\n",
    "def create_binary_tree(level_order):\n",
    "    if not level_order:\n",
    "        return None   \n",
    "    root = Node(level_order[0])\n",
    "    queue = [root]\n",
    "    i = 1\n",
    "    while queue and i < len(level_order):\n",
    "        node = queue.pop(0)\n",
    "        if node:\n",
    "            node.left = Node(level_order[i])\n",
    "            queue.append(node.left)\n",
    "            i += 1\n",
    "            if i < len(level_order):\n",
    "                node.right = Node(level_order[i])\n",
    "                queue.append(node.right)\n",
    "                i += 1\n",
    "    return root"
   ]
  },
  {
   "cell_type": "code",
   "execution_count": 80,
   "metadata": {},
   "outputs": [],
   "source": [
    "root = create_binary_tree(nodes_values)"
   ]
  },
  {
   "cell_type": "code",
   "execution_count": 88,
   "metadata": {},
   "outputs": [
    {
     "name": "stdout",
     "output_type": "stream",
     "text": [
      "      5\n",
      "   4\n",
      "      1\n",
      "3\n",
      "      None\n",
      "   1\n",
      "      3\n"
     ]
    }
   ],
   "source": [
    "def childNodes(i):\n",
    "     return (2*i)+1, (2*i)+2\n",
    "\n",
    "def traversed(a, i=0, d = 0):\n",
    "    if i >= len(a):\n",
    "        return \n",
    "    l, r =  childNodes(i)\n",
    "    traversed(a, r, d = d+1)\n",
    "    print(\"   \"*d + str(a[i]))\n",
    "    traversed(a, l, d = d+1)\n",
    "\n",
    "traversed(nodes_values)"
   ]
  },
  {
   "cell_type": "code",
   "execution_count": 93,
   "metadata": {},
   "outputs": [],
   "source": [
    "\n",
    "# create binary from list by level traverse\n",
    "nodes_values = [3,1,4,3,None,1,5]\n",
    "class Node:\n",
    "    def __init__(self, val):\n",
    "        self.val = val\n",
    "        self.left = None\n",
    "        self.right = None\n",
    "\n",
    "def create_binary_tree(level_order):\n",
    "    if not level_order:\n",
    "        return None   \n",
    "    root = Node(level_order[0])\n",
    "    queue = [root]\n",
    "    i = 1\n",
    "    while queue and i < len(level_order):\n",
    "        node = queue.pop(0)\n",
    "        if node:\n",
    "            node.left = Node(level_order[i])\n",
    "            queue.append(node.left)\n",
    "            i += 1\n",
    "            if i < len(level_order):\n",
    "                node.right = Node(level_order[i])\n",
    "                queue.append(node.right)\n",
    "                i += 1\n",
    "    return root\n",
    "\n",
    "def count_valid_nodes(root):\n",
    "    count = 0\n",
    "    maxx = 0\n",
    "    valid_nodes(root, maxx)\n",
    "    return count\n",
    "\n",
    "\n",
    "def valid_nodes(node, maxx):\n",
    "    if not node:\n",
    "        return \n",
    "    if (not node.left) and (not node.right):\n",
    "        if maxx < node.val:\n",
    "            count += 1\n",
    "    maxx = max(node.val, maxx)\n",
    "    valid_nodes(node.left, maxx)\n",
    "    valid_nodes(node.right, maxx)\n",
    "    \n",
    "count_valid_nodes(root)\n",
    "    "
   ]
  },
  {
   "cell_type": "code",
   "execution_count": 5,
   "metadata": {},
   "outputs": [
    {
     "data": {
      "text/plain": [
       "True"
      ]
     },
     "execution_count": 5,
     "metadata": {},
     "output_type": "execute_result"
    }
   ],
   "source": [
    "a = 7\n",
    "2<= a <= 9"
   ]
  },
  {
   "cell_type": "code",
   "execution_count": 3,
   "metadata": {},
   "outputs": [
    {
     "data": {
      "text/plain": [
       "'1.5.1'"
      ]
     },
     "execution_count": 3,
     "metadata": {},
     "output_type": "execute_result"
    }
   ],
   "source": [
    "pd.__version__"
   ]
  },
  {
   "cell_type": "code",
   "execution_count": 6,
   "metadata": {},
   "outputs": [
    {
     "name": "stdout",
     "output_type": "stream",
     "text": [
      "   days   datetime\n",
      "0     1 2021-01-02\n",
      "1     2 2021-01-03\n",
      "2     3 2021-01-04\n",
      "3     4 2021-01-05\n",
      "4     5 2021-01-06\n"
     ]
    }
   ],
   "source": [
    "import pandas as pd\n",
    "\n",
    "# Create a sample DataFrame with a column of days\n",
    "df = pd.DataFrame({'days': [1, 2, 3, 4, 5]})\n",
    "\n",
    "# Convert the column of days to a Timedelta object\n",
    "td = pd.to_timedelta(df['days'], unit='D')\n",
    "\n",
    "# Create a new column of datetime by adding the Timedelta object to a reference date\n",
    "reference_date = '2021-01-01'\n",
    "df['datetime'] = pd.to_datetime(reference_date) + td\n",
    "\n",
    "# Merge the new column of datetime with the original DataFrame\n",
    "df = pd.concat([df['days'], df['datetime']], axis=1)\n",
    "\n",
    "print(df)\n",
    "\n"
   ]
  },
  {
   "cell_type": "code",
   "execution_count": 1,
   "metadata": {},
   "outputs": [],
   "source": [
    "import math"
   ]
  },
  {
   "cell_type": "code",
   "execution_count": 3,
   "metadata": {},
   "outputs": [
    {
     "name": "stdout",
     "output_type": "stream",
     "text": [
      "cum count [0, 1, 3, 5, 6, 6, 6, 6, 7]\n",
      "[1, 2, 2, 3, 3, 4, 8]\n"
     ]
    }
   ],
   "source": [
    "def countingSort(arr):\n",
    "    # Find the maximum element in the array\n",
    "    max_val = max(arr)\n",
    "\n",
    "    # Create a counting array of size max_val + 1\n",
    "    count = [0] * (max_val + 1)\n",
    "\n",
    "    # Count the occurrences of each element\n",
    "    for num in arr:\n",
    "        count[num] += 1\n",
    "\n",
    "    # Calculate the cumulative sum of the count array\n",
    "    for i in range(1, len(count)):\n",
    "        count[i] += count[i - 1]\n",
    "    print('cum count',  count)\n",
    "    # Create a new array to store the sorted elements\n",
    "    sorted_arr = [0] * len(arr)\n",
    "\n",
    "    # Place the elements in sorted order using the count array\n",
    "    for num in arr:\n",
    "        sorted_arr[count[num] - 1] = num\n",
    "        count[num] -= 1\n",
    "\n",
    "    return sorted_arr\n",
    "\n",
    "# Example usage\n",
    "arr = [4, 2, 2, 8, 3, 3, 1]\n",
    "sorted_arr = countingSort(arr)\n",
    "print(sorted_arr)\n"
   ]
  }
 ],
 "metadata": {
  "kernelspec": {
   "display_name": "base",
   "language": "python",
   "name": "python3"
  },
  "language_info": {
   "codemirror_mode": {
    "name": "ipython",
    "version": 3
   },
   "file_extension": ".py",
   "mimetype": "text/x-python",
   "name": "python",
   "nbconvert_exporter": "python",
   "pygments_lexer": "ipython3",
   "version": "3.8.13"
  },
  "orig_nbformat": 4,
  "vscode": {
   "interpreter": {
    "hash": "1cc7f3e9408a3aea9cd6dc3e41c7a9aab8fbe83962c097cebbc31bdb6fbe3309"
   }
  }
 },
 "nbformat": 4,
 "nbformat_minor": 2
}
