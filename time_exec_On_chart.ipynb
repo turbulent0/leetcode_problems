{
 "cells": [
  {
   "cell_type": "code",
   "execution_count": null,
   "metadata": {},
   "outputs": [],
   "source": [
    "import time\n",
    "import matplotlib.pyplot as plt\n",
    "\n",
    "# Create a list of values for the variable\n",
    "variable_values = [100, 1000, 10000, 100000, 1000000]  # You can adjust the range and step size as needed\n",
    "\n",
    "# Measure the execution time for each value in the list\n",
    "execution_times = []\n",
    "for var in variable_values:\n",
    "    start_time = time.time()\n",
    "    topKFrequent(var)  # Call your function here\n",
    "    end_time = time.time()\n",
    "    execution_time = end_time - start_time\n",
    "    execution_times.append(execution_time)\n",
    "\n",
    "# Plot the graph\n",
    "plt.plot(variable_values, execution_times)\n",
    "plt.xlabel('Variable Values')\n",
    "plt.ylabel('Execution Time (seconds)')\n",
    "plt.title('Function Execution Time')\n",
    "plt.grid(True)\n",
    "plt.show()"
   ]
  }
 ],
 "metadata": {
  "language_info": {
   "name": "python"
  }
 },
 "nbformat": 4,
 "nbformat_minor": 2
}
