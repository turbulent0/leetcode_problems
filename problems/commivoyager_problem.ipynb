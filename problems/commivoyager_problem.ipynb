{
 "cells": [
  {
   "cell_type": "code",
   "execution_count": 12,
   "metadata": {},
   "outputs": [
    {
     "name": "stdout",
     "output_type": "stream",
     "text": [
      "700\n"
     ]
    }
   ],
   "source": [
    "import networkx as nx \n",
    " \n",
    " \n",
    "flights = [[0,1,100],[1,2,100],[2,0,100],[1,3,600],[2,3,200]] \n",
    "src = 0 \n",
    "dst = 3 \n",
    "k = 1 \n",
    "\n",
    "\n",
    "# n = 3\n",
    "# flights = [[0,1,100],[1,2,100],[0,2,500]]\n",
    "# src = 0\n",
    "# dst = 2\n",
    "# k = 1\n",
    "\n",
    " \n",
    "G = nx.DiGraph() \n",
    "G.add_weighted_edges_from(flights) \n",
    " \n",
    "minlen = float('inf') \n",
    "for path in nx.all_simple_paths(G, src, dst): \n",
    "  if ((len(path) - 2) <= k) and (nx.path_weight(G, path, 'weight') < minlen): \n",
    "    minlen = nx.path_weight(G, path, 'weight') \n",
    "if minlen ==  float('inf'): \n",
    "  minlen = -1 \n",
    "print(minlen)\n"
   ]
  },
  {
   "cell_type": "code",
   "execution_count": 19,
   "metadata": {},
   "outputs": [
    {
     "data": {
      "text/plain": [
       "[[0, 1, 2, 3], [0, 1, 3]]"
      ]
     },
     "execution_count": 19,
     "metadata": {},
     "output_type": "execute_result"
    }
   ],
   "source": [
    "list(nx.all_simple_paths(G, src, dst))"
   ]
  },
  {
   "cell_type": "code",
   "execution_count": 4,
   "metadata": {},
   "outputs": [],
   "source": [
    "# algorithm dejkstra\n",
    "#Временная сложность данного решения — O(E * log(V)), где E - количество рейсов, V - количество городов\n",
    "import heapq\n",
    "\n",
    "def findCheapestPrice(n, flights, src, dst, k):\n",
    "    # Создаем словарь, где ключ - город, значение - список рейсов, выходящих из этого города\n",
    "    graph = {}\n",
    "    for flight in flights:\n",
    "        start, end, price = flight\n",
    "        if start not in graph:\n",
    "            graph[start] = []\n",
    "        graph[start].append((end, price))\n",
    "    \n",
    "    # Создаем очередь с приоритетом\n",
    "    queue = [(0, src, k+1)]  # (цена, текущий город, оставшееся количество пересадок)\n",
    "    \n",
    "    while queue:\n",
    "        price, city, stops = heapq.heappop(queue)\n",
    "        \n",
    "        if city == dst:\n",
    "            return price\n",
    "        \n",
    "        if stops > 0:\n",
    "            # Просматриваем рейсы из текущего города\n",
    "            if city in graph:\n",
    "                for neighbor, flight_price in graph[city]:\n",
    "                    heapq.heappush(queue, (price + flight_price, neighbor, stops - 1))\n",
    "\n",
    "    return -1"
   ]
  },
  {
   "cell_type": "code",
   "execution_count": 5,
   "metadata": {},
   "outputs": [
    {
     "data": {
      "text/plain": [
       "200"
      ]
     },
     "execution_count": 5,
     "metadata": {},
     "output_type": "execute_result"
    }
   ],
   "source": [
    "findCheapestPrice(n, flights, src, dst, k )"
   ]
  }
 ],
 "metadata": {
  "kernelspec": {
   "display_name": "mlops",
   "language": "python",
   "name": "python3"
  },
  "language_info": {
   "codemirror_mode": {
    "name": "ipython",
    "version": 3
   },
   "file_extension": ".py",
   "mimetype": "text/x-python",
   "name": "python",
   "nbconvert_exporter": "python",
   "pygments_lexer": "ipython3",
   "version": "3.10.8"
  },
  "orig_nbformat": 4
 },
 "nbformat": 4,
 "nbformat_minor": 2
}
