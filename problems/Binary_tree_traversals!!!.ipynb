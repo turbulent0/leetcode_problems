{
 "cells": [
  {
   "cell_type": "code",
   "execution_count": null,
   "metadata": {},
   "outputs": [],
   "source": [
    "# 1. preorder, dfs - node-left child-right child\n",
    "\n",
    "class TreeNode(object):\n",
    "    def __init__(self, val=0, left=None, right=None):\n",
    "        self.val = val\n",
    "        self.left = left\n",
    "        self.right = right\n",
    "class Solution(object):\n",
    "    def __init__(self):\n",
    "        self.nodes = []\n",
    "    # recursion\n",
    "    def preorderTraversal(self, root):\n",
    "        \"\"\"\n",
    "        :type root: TreeNode\n",
    "        :rtype: List[int]\n",
    "        \"\"\"\n",
    "        if not root:\n",
    "            return\n",
    "        self.nodes.append(root.val)\n",
    "        self.preorderTraversal(root.left)\n",
    "        self.preorderTraversal(root.right)\n",
    "        return self.nodes\n",
    "    # iteration, !!! stack (right-left)\n",
    "    def preorderTraversal(self, root: TreeNode) -> list[int]:\n",
    "        answer = []\n",
    "        stack = [root]\n",
    "\n",
    "        # Note that we add curr_node's right child to the stack first.\n",
    "        while stack:\n",
    "            curr_node = stack.pop()\n",
    "            if curr_node:\n",
    "                answer.append(curr_node.val)\n",
    "                stack.append(curr_node.right)\n",
    "                stack.append(curr_node.left)\n",
    "                \n",
    "        return answer"
   ]
  },
  {
   "cell_type": "code",
   "execution_count": null,
   "metadata": {},
   "outputs": [],
   "source": [
    "# 2. inorder traversal, left-node-right child\n",
    "class Solution(object):\n",
    "    def __init__(self):\n",
    "        self.nodes = []\n",
    "    def inorderTraversal(self, root):\n",
    "        \"\"\"\n",
    "        :type root: TreeNode\n",
    "        :rtype: List[int]\n",
    "        \"\"\"\n",
    "        if not root:\n",
    "            return\n",
    "        self.inorderTraversal(root.left)\n",
    "        if root:\n",
    "            self.nodes.append(root.val)\n",
    "        self.inorderTraversal(root.right)\n",
    "        return self.nodes\n",
    "    \n",
    "    # iteration    \n",
    "    def inorderTraversal(self, root):\n",
    "        res = []\n",
    "        stack = []\n",
    "        curr = root\n",
    "        while curr or stack:\n",
    "            while curr:\n",
    "                stack.append(curr)\n",
    "                curr = curr.left\n",
    "            curr = stack.pop()\n",
    "            res.append(curr.val)\n",
    "            curr = curr.right\n",
    "        return res\n"
   ]
  },
  {
   "cell_type": "code",
   "execution_count": 3,
   "metadata": {},
   "outputs": [
    {
     "data": {
      "text/plain": [
       "[2, 3]"
      ]
     },
     "execution_count": 3,
     "metadata": {},
     "output_type": "execute_result"
    }
   ],
   "source": [
    "# 3. level order\n",
    " # recursion\n",
    "def levelOrder( root):\n",
    "    \"\"\"\n",
    "    :type root: TreeNode\n",
    "    :rtype: List[List[int]]\n",
    "    \"\"\"\n",
    "    levels = []\n",
    "    if not root:\n",
    "        return levels\n",
    "    \n",
    "    def helper(node, level):\n",
    "        # start the current level\n",
    "        if len(levels) == level:\n",
    "            levels.append([])\n",
    "\n",
    "        # append the current node value\n",
    "        levels[level].append(node.val)\n",
    "\n",
    "        # process child nodes for the next level\n",
    "        if node.left:\n",
    "            helper(node.left, level + 1)\n",
    "        if node.right:\n",
    "            helper(node.right, level + 1)\n",
    "        \n",
    "    helper(root, 0)\n",
    "\n",
    "def levelOrder(root):\n",
    "    \"\"\"\n",
    "    :type root: TreeNode\n",
    "    :rtype: List[List[int]]\n",
    "    \"\"\"\n",
    "    levels = []\n",
    "    if not root:\n",
    "        return levels\n",
    "    \n",
    "    level = 0\n",
    "    queue = [root]\n",
    "    while queue:\n",
    "        # start the current level\n",
    "        levels.append([])\n",
    "        # number of elements in the current level \n",
    "        level_length = len(queue)\n",
    "        \n",
    "        for i in range(level_length):\n",
    "            node = queue.pop(0)\n",
    "            # fulfill the current level\n",
    "            levels[level].append(node.val)\n",
    "            \n",
    "            # add child nodes of the current level\n",
    "            # in the queue for the next level\n",
    "            if node.left:\n",
    "                queue.append(node.left)\n",
    "            if node.right:\n",
    "                queue.append(node.right)\n",
    "        \n",
    "        # go to next level\n",
    "        level += 1\n",
    "    return levels"
   ]
  },
  {
   "cell_type": "code",
   "execution_count": null,
   "metadata": {},
   "outputs": [],
   "source": []
  }
 ],
 "metadata": {
  "kernelspec": {
   "display_name": "base",
   "language": "python",
   "name": "python3"
  },
  "language_info": {
   "codemirror_mode": {
    "name": "ipython",
    "version": 3
   },
   "file_extension": ".py",
   "mimetype": "text/x-python",
   "name": "python",
   "nbconvert_exporter": "python",
   "pygments_lexer": "ipython3",
   "version": "3.9.12"
  },
  "orig_nbformat": 4,
  "vscode": {
   "interpreter": {
    "hash": "1cc7f3e9408a3aea9cd6dc3e41c7a9aab8fbe83962c097cebbc31bdb6fbe3309"
   }
  }
 },
 "nbformat": 4,
 "nbformat_minor": 2
}
