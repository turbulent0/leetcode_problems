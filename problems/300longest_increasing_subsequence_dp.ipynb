{
 "cells": [
  {
   "cell_type": "code",
   "execution_count": 9,
   "metadata": {},
   "outputs": [
    {
     "data": {
      "text/plain": [
       "6"
      ]
     },
     "execution_count": 9,
     "metadata": {},
     "output_type": "execute_result"
    }
   ],
   "source": [
    "# dp\n",
    "class Solution:  # 2516 ms, faster than 64.96%\n",
    "    def lengthOfLIS(self, nums: list[int]) -> int:\n",
    "        \n",
    "        n = len(nums)\n",
    "        dp = [1] * n\n",
    "        for i in range(n):\n",
    "            for j in range(i):\n",
    "                i_=dp[i]\n",
    "                j_=dp[j]\n",
    "                if nums[i] > nums[j] and dp[i] < dp[j] + 1:\n",
    "                    dp[i] = dp[j] + 1\n",
    "        return max(dp)\n",
    "res = Solution()\n",
    "res.lengthOfLIS([1,3,4,2,1,7,2,9,19])"
   ]
  },
  {
   "cell_type": "code",
   "execution_count": 33,
   "metadata": {},
   "outputs": [
    {
     "data": {
      "text/plain": [
       "array([7, 4, 5, 3, 6, 8, 5, 5, 1, 7])"
      ]
     },
     "execution_count": 33,
     "metadata": {},
     "output_type": "execute_result"
    }
   ],
   "source": [
    "import numpy as np\n",
    "np.random.randint(10, size=10)"
   ]
  },
  {
   "cell_type": "code",
   "execution_count": null,
   "metadata": {},
   "outputs": [],
   "source": [
    "#greedy approach\n",
    "class Solution:  # 68 ms, faster than 93.92%\n",
    "    def lengthOfLIS(self, nums: List[int]) -> int:\n",
    "        sub = []\n",
    "        for x in nums:\n",
    "            if len(sub) == 0 or sub[-1] < x:\n",
    "                sub.append(x)\n",
    "            else:\n",
    "                idx = bisect_left(sub, x)  # Find the index of the first element >= x\n",
    "                sub[idx] = x  # Replace that number with x\n",
    "        return len(sub)"
   ]
  },
  {
   "cell_type": "code",
   "execution_count": 84,
   "metadata": {},
   "outputs": [],
   "source": [
    "# Binary indexed tree\n",
    "class MaxBIT:  # One-based indexing\n",
    "    def __init__(self, size):\n",
    "        self.bit = [0] * (size + 1)\n",
    "    def get(self, idx):\n",
    "        ans = 0\n",
    "        while idx > 0:\n",
    "            ans = max(ans, self.bit[idx])\n",
    "            idx -= idx & (-idx)\n",
    "        return ans\n",
    "    def update(self, idx, val):\n",
    "        while idx < len(self.bit):\n",
    "            self.bit[idx] = max(self.bit[idx], val)\n",
    "            idx += idx & (-idx)\n",
    "\n",
    "class Solution:  # 360 ms, faster than 69.28%\n",
    "    def lengthOfLIS(self, nums: List[int]) -> int:\n",
    "        bit = MaxBIT(20001)\n",
    "        BASE = 10001\n",
    "        for x in nums:\n",
    "            subLongest = bit.get(BASE + x - 1)\n",
    "            bit.update(BASE + x, subLongest + 1)\n",
    "        return bit.get(20001)"
   ]
  },
  {
   "cell_type": "code",
   "execution_count": 108,
   "metadata": {},
   "outputs": [
    {
     "name": "stdout",
     "output_type": "stream",
     "text": [
      "Binary Indexed Tree (BIT) Visualization:\n",
      "2   2   6   -1   7  \n",
      "  5       10       4\n",
      "      10            \n",
      "              24    \n"
     ]
    }
   ],
   "source": [
    "class BIT:\n",
    "    def __init__(self, size):\n",
    "        self.size = size\n",
    "        self.bit = [0] * (size + 1)\n",
    "\n",
    "    def update(self, idx, val):\n",
    "        while idx <= self.size:\n",
    "            self.bit[idx] += val\n",
    "            idx += idx & (-idx)\n",
    "\n",
    "    def get(self, idx):\n",
    "        ans = 0\n",
    "        while idx > 0:\n",
    "            ans += self.bit[idx]\n",
    "            idx -= idx & (-idx)\n",
    "        return ans\n",
    "\n",
    "    def visualize(self):\n",
    "        print(\"Binary Indexed Tree (BIT) Visualization:\")\n",
    "        for level in range(self.size.bit_length()):  # Determine the number of levels\n",
    "            level_values = []\n",
    "            for i in range(1, self.size + 1):\n",
    "                if (i & -i) & (1 << level) != 0:\n",
    "                    level_values.append(str(self.bit[i]))\n",
    "                else:\n",
    "                    level_values.append(\" \")\n",
    "            print(\" \".join(level_values))\n",
    "\n",
    "# Create a BIT with size 10\n",
    "bit_tree = BIT(10)\n",
    "\n",
    "# Populate the BIT with some values\n",
    "values = [3, 2, -1, 6, 5, 4, -3, 3, 7, 2]\n",
    "values2 = [3, 2, -1, 6, 5, 4, -3, 3, 7, 2]\n",
    "np.random.shuffle(values)\n",
    "for i, val in enumerate(values, start=1):\n",
    "    bit_tree.update(i, val)\n",
    "\n",
    "# Visualize the BIT tree\n",
    "bit_tree.visualize()\n"
   ]
  },
  {
   "cell_type": "code",
   "execution_count": 111,
   "metadata": {},
   "outputs": [
    {
     "name": "stdout",
     "output_type": "stream",
     "text": [
      "16\n"
     ]
    }
   ],
   "source": [
    "idx=8\n",
    "while idx <= 10:\n",
    "    idx += idx & (-idx)\n",
    "    print(idx)"
   ]
  },
  {
   "cell_type": "code",
   "execution_count": null,
   "metadata": {},
   "outputs": [],
   "source": []
  }
 ],
 "metadata": {
  "kernelspec": {
   "display_name": "leetcode",
   "language": "python",
   "name": "python3"
  },
  "language_info": {
   "codemirror_mode": {
    "name": "ipython",
    "version": 3
   },
   "file_extension": ".py",
   "mimetype": "text/x-python",
   "name": "python",
   "nbconvert_exporter": "python",
   "pygments_lexer": "ipython3",
   "version": "3.10.0"
  },
  "orig_nbformat": 4
 },
 "nbformat": 4,
 "nbformat_minor": 2
}
