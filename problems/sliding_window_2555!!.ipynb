{
 "cells": [
  {
   "cell_type": "code",
   "execution_count": null,
   "metadata": {},
   "outputs": [],
   "source": [
    "# There are some prizes on the X-axis. You are given an integer array prizePositions that is sorted in non-decreasing order, where prizePositions[i] is the position of the ith prize. There could be different prizes at the same position on the line. You are also given an integer k.\n",
    "\n",
    "# You are allowed to select two segments with integer endpoints. The length of each segment must be k. You will collect all prizes whose position falls within at least one of the two selected segments (including the endpoints of the segments). The two selected segments may intersect.\n",
    "\n",
    "# For example if k = 2, you can choose segments [1, 3] and [2, 4], and you will win any prize i that satisfies 1 <= prizePositions[i] <= 3 or 2 <= prizePositions[i] <= 4.\n",
    "# Return the maximum number of prizes you can win if you choose the two segments optimally."
   ]
  },
  {
   "cell_type": "code",
   "execution_count": null,
   "metadata": {},
   "outputs": [],
   "source": [
    "# window by value - go by !index i for end, and j for start, while A[j] <= A[i] - difference by value\n",
    "# Maintain a sliding segment(sliding window),\n",
    "# where A[i] - A[j] <= k.\n",
    "\n",
    "# dp[k] means the the maximum number\n",
    "# we can cover if you choose the one segments optimally\n",
    "# in the first k elements.\n",
    "\n",
    "# When we slide a segment from left to right,\n",
    "# the number of elements that we cover is j - i + 1\n",
    "# and in the first j elements,\n",
    "# we can cover at most dp[j] elements,\n",
    "# so we can cover j - i + 1 + dp[j] in total.\n",
    "# Update the result res and finally return it.\n",
    "\n",
    "\n",
    "# Follow up\n",
    "# What if we want to solve Maximize Win From K Segments\n",
    "# We can solve it by this approach as well.\n",
    "# Simply increase one linear dp[i] to dp[k][i],\n",
    "# dp[k][i] means the maixmum we can in the first i elements with k segments."
   ]
  },
  {
   "cell_type": "code",
   "execution_count": null,
   "metadata": {},
   "outputs": [],
   "source": [
    "def maximizeWin( A, k):\n",
    "    dp = [0] * (len(A) + 1)\n",
    "    res = 0\n",
    "    j = 0\n",
    "    for i, a in enumerate(A):\n",
    "        while A[j] < A[i] - k: \n",
    "            j += 1\n",
    "        dp[i + 1] = max(dp[i], i - j + 1)\n",
    "        res = max(res, i - j + 1 + dp[j])\n",
    "    return res"
   ]
  }
 ],
 "metadata": {
  "kernelspec": {
   "display_name": "base",
   "language": "python",
   "name": "python3"
  },
  "language_info": {
   "name": "python",
   "version": "3.9.12 (main, Apr  5 2022, 01:53:17) \n[Clang 12.0.0 ]"
  },
  "orig_nbformat": 4,
  "vscode": {
   "interpreter": {
    "hash": "1cc7f3e9408a3aea9cd6dc3e41c7a9aab8fbe83962c097cebbc31bdb6fbe3309"
   }
  }
 },
 "nbformat": 4,
 "nbformat_minor": 2
}
