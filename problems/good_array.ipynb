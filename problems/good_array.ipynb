{
 "cells": [
  {
   "cell_type": "code",
   "execution_count": 27,
   "metadata": {},
   "outputs": [],
   "source": [
    "l = [1,2,3,3]"
   ]
  },
  {
   "cell_type": "code",
   "execution_count": 28,
   "metadata": {},
   "outputs": [
    {
     "data": {
      "text/plain": [
       "True"
      ]
     },
     "execution_count": 28,
     "metadata": {},
     "output_type": "execute_result"
    }
   ],
   "source": [
    "len(set(l)) == max(l) and len(set(l)) == (len(l) - 1) and sum([1 for i in l if i == max(l)])==2"
   ]
  },
  {
   "cell_type": "code",
   "execution_count": 12,
   "metadata": {},
   "outputs": [
    {
     "data": {
      "text/plain": [
       "2"
      ]
     },
     "execution_count": 12,
     "metadata": {},
     "output_type": "execute_result"
    }
   ],
   "source": [
    "sum([1 for i in l if i == max(l)])"
   ]
  },
  {
   "cell_type": "code",
   "execution_count": 96,
   "metadata": {},
   "outputs": [],
   "source": [
    "s = \"lEetcOde\"\n"
   ]
  },
  {
   "cell_type": "code",
   "execution_count": 99,
   "metadata": {},
   "outputs": [
    {
     "data": {
      "text/plain": [
       "[69, 101, 79, 101]"
      ]
     },
     "execution_count": 99,
     "metadata": {},
     "output_type": "execute_result"
    }
   ],
   "source": [
    "t = list(s)\n",
    "h = []\n",
    "[heapq.heappush(h, ord(i)) for i in s if i.lower()  in ('a', 'e', 'i', 'o', 'u') ]\n",
    "''.join([i if i.lower() not in ('a', 'e', 'i', 'o', 'u') else chr(heapq.heappop(h)) for i in t ])\n"
   ]
  },
  {
   "cell_type": "code",
   "execution_count": 103,
   "metadata": {},
   "outputs": [],
   "source": [
    "nums = [2,3,6,1,9,2], \n",
    "x = 5"
   ]
  },
  {
   "cell_type": "code",
   "execution_count": 118,
   "metadata": {},
   "outputs": [],
   "source": [
    "dp = [0, 0]"
   ]
  },
  {
   "cell_type": "code",
   "execution_count": 115,
   "metadata": {},
   "outputs": [],
   "source": [
    "nums = [2,3,6,1,9,2]"
   ]
  },
  {
   "cell_type": "code",
   "execution_count": 119,
   "metadata": {},
   "outputs": [],
   "source": [
    "dp[nums[0]%2] = nums[0]"
   ]
  },
  {
   "cell_type": "code",
   "execution_count": 129,
   "metadata": {},
   "outputs": [],
   "source": [
    "def numberOfWays(n: int, x: int) -> int:\n",
    "    p = 10**9 + 7\n",
    "    dp = [[0] * (x + 1) for _ in range(n + 1)]\n",
    "\n",
    "    # There is only one way to represent 0 as the sum of any powers\n",
    "    for j in range(1, x + 1):\n",
    "        dp[0][j] = 1\n",
    "\n",
    "    for i in range(1, n + 1):\n",
    "        for j in range(1, x + 1):\n",
    "            dp[i][j] = dp[i][j - 1]  # Exclude j-th power from the sum\n",
    "            power = 1\n",
    "            while power <= i:\n",
    "                dp[i][j] += dp[i - power][j - 1]\n",
    "                dp[i][j] %= p\n",
    "                power *= j + 1\n",
    "\n",
    "    return dp[n][x]"
   ]
  },
  {
   "cell_type": "code",
   "execution_count": 131,
   "metadata": {},
   "outputs": [
    {
     "data": {
      "text/plain": [
       "0"
      ]
     },
     "execution_count": 131,
     "metadata": {},
     "output_type": "execute_result"
    }
   ],
   "source": [
    "numberOfWays(10,2)\n"
   ]
  },
  {
   "cell_type": "code",
   "execution_count": 123,
   "metadata": {},
   "outputs": [],
   "source": [
    "def maxScore( nums, x):\n",
    "    dp = [0, 0]\n",
    "    dp[nums[0] & 1] = nums[0]\n",
    "    dp[(nums[0] & 1) ^ 1] = float('-inf')\n",
    "    \n",
    "    for i in range(1, len(nums)):\n",
    "        dp[nums[i] & 1] = max(dp[nums[i] & 1] + nums[i], dp[(nums[i] & 1) ^ 1] + nums[i] - x)\n",
    "    \n",
    "    return max(dp[0], dp[1])\n",
    "\n"
   ]
  },
  {
   "cell_type": "code",
   "execution_count": 163,
   "metadata": {},
   "outputs": [
    {
     "ename": "SyntaxError",
     "evalue": "cannot assign to literal (2160509840.py, line 1)",
     "output_type": "error",
     "traceback": [
      "\u001b[0;36m  Input \u001b[0;32mIn [163]\u001b[0;36m\u001b[0m\n\u001b[0;31m    3=2=1\u001b[0m\n\u001b[0m    ^\u001b[0m\n\u001b[0;31mSyntaxError\u001b[0m\u001b[0;31m:\u001b[0m cannot assign to literal\n"
     ]
    }
   ],
   "source": []
  },
  {
   "cell_type": "code",
   "execution_count": 158,
   "metadata": {},
   "outputs": [
    {
     "data": {
      "text/plain": [
       "array([1, 1, 0, 0, 0, 0, 0, 0, 1, 1, 0, 0, 0, 0, 0, 0, 0, 0, 0, 0, 0, 0,\n",
       "       0, 0, 0, 0, 0, 1, 1, 0, 0, 0, 0, 0, 0, 1, 1, 0, 0, 0, 0, 0, 0, 0,\n",
       "       0, 0, 0, 0, 0, 0, 0, 0, 0, 0, 0, 0, 0, 0, 0, 0, 0, 0, 0, 0, 1, 1,\n",
       "       0, 0, 0, 0, 0, 0, 1, 1, 0, 0, 0, 0, 0, 0, 0, 0, 0, 0, 0, 0, 0, 0,\n",
       "       0, 0, 0, 1, 1, 0, 0, 0, 0, 0, 0, 1, 1, 0, 0, 0, 0, 0, 0, 0, 0, 0,\n",
       "       0, 0, 0, 0, 0, 0, 0, 0, 0, 0, 0, 0, 0, 0, 0, 1, 1, 0, 0, 0, 0, 0,\n",
       "       0, 1, 1, 0, 0, 0, 0, 0, 0, 0, 0, 0, 0, 0, 0, 0, 0, 0, 0, 0, 1, 1,\n",
       "       0, 0, 0, 0, 0, 0, 1])"
      ]
     },
     "execution_count": 158,
     "metadata": {},
     "output_type": "execute_result"
    }
   ],
   "source": [
    "n=160\n",
    "dp = [1] + [0] * n\n",
    "\n",
    "for m in range(1, n):\n",
    "    max_m = m ** 3\n",
    "    dp_new = [i for i in dp]\n",
    "    for j in range (n+1):\n",
    "        if max_m + j <= n:\n",
    "            dp_new[max_m+j] = dp[max_m+j] + dp[j]\n",
    "    dp = dp_new\n",
    "\n",
    "np.array(dp).T"
   ]
  },
  {
   "cell_type": "code",
   "execution_count": 159,
   "metadata": {},
   "outputs": [
    {
     "data": {
      "text/plain": [
       "array([1, 1, 0, 0, 0, 0, 0, 0, 1, 1, 0, 0, 0, 0, 0, 0, 0, 0, 0, 0, 0, 0,\n",
       "       0, 0, 0, 0, 0, 1, 1, 0, 0, 0, 0, 0, 0, 1, 1, 0, 0, 0, 0, 0, 0, 0,\n",
       "       0, 0, 0, 0, 0, 0, 0, 0, 0, 0, 0, 0, 0, 0, 0, 0, 0, 0, 0, 0, 1, 1,\n",
       "       0, 0, 0, 0, 0, 0, 1, 1, 0, 0, 0, 0, 0, 0, 0, 0, 0, 0, 0, 0, 0, 0,\n",
       "       0, 0, 0, 1, 1, 0, 0, 0, 0, 0, 0, 1, 1, 0, 0, 0, 0, 0, 0, 0, 0, 0,\n",
       "       0, 0, 0, 0, 0, 0, 0, 0, 0, 0, 0, 0, 0, 0, 0, 1, 1, 0, 0, 0, 0, 0,\n",
       "       0, 1, 1, 0, 0, 0, 0, 0, 0, 0, 0, 0, 0, 0, 0, 0, 0, 0, 0, 0, 1, 1,\n",
       "       0, 0, 0, 0, 0, 0, 1])"
      ]
     },
     "execution_count": 159,
     "metadata": {},
     "output_type": "execute_result"
    }
   ],
   "source": [
    "n=160\n",
    "dp = [1] + [0] * n\n",
    "\n",
    "for m in range(1, n):\n",
    "    max_m = m ** 3\n",
    "    dp_new = [i for i in dp]\n",
    "    for j in range (n+1):\n",
    "        if max_m + j <= n:\n",
    "            dp_new[max_m+j] = dp_new[max_m+j] + dp[j]\n",
    "    dp = dp_new\n",
    "\n",
    "np.array(dp).T"
   ]
  },
  {
   "cell_type": "code",
   "execution_count": 157,
   "metadata": {},
   "outputs": [
    {
     "name": "stdout",
     "output_type": "stream",
     "text": [
      "(1, [1, 1, 0, 0, 1, 1, 0, 0, 0, 1, 1, 0, 0, 1, 1, 0, 1])\n"
     ]
    }
   ],
   "source": [
    "def numberOfWays(n: int, x: int) -> int:\n",
    "    p = 10**9+7\n",
    "    d = [0 for j in range(n+1)]\n",
    "    d[0] = 1 \n",
    "    for new_max in range(1, n+1):\n",
    "        new_d = [d[i] for i in range(n+1)]\n",
    "        m = new_max**x \n",
    "        for j in range(n+1):\n",
    "            if j+m <= n:\n",
    "                new_d[j+m] = (new_d[j+m]+d[j]) % p \n",
    "        d = new_d \n",
    "    return d[n], d\n",
    "\n",
    "\n",
    "# def numberOfWays2(n: int, x: int) -> int:\n",
    "#         dp, k = [1] + [0] * n, 1\n",
    "#         for i in range(1, n + 1):\n",
    "#             power = i ** x\n",
    "#             for j in range(n, power - 1, -1):\n",
    "#                 dp[j] += dp[j - power]\n",
    "#                 dp[j] %= 10 ** 9 + 7\n",
    "#         return dp[n]\n",
    "\n",
    "print(numberOfWays(16, 2))"
   ]
  },
  {
   "cell_type": "code",
   "execution_count": null,
   "metadata": {},
   "outputs": [],
   "source": []
  }
 ],
 "metadata": {
  "kernelspec": {
   "display_name": "ocr",
   "language": "python",
   "name": "python3"
  },
  "language_info": {
   "codemirror_mode": {
    "name": "ipython",
    "version": 3
   },
   "file_extension": ".py",
   "mimetype": "text/x-python",
   "name": "python",
   "nbconvert_exporter": "python",
   "pygments_lexer": "ipython3",
   "version": "3.8.13"
  },
  "orig_nbformat": 4
 },
 "nbformat": 4,
 "nbformat_minor": 2
}
