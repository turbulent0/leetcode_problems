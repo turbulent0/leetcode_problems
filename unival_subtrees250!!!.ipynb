{
 "cells": [
  {
   "cell_type": "code",
   "execution_count": 1,
   "id": "8912e189",
   "metadata": {},
   "outputs": [],
   "source": [
    "\n",
    "# create binary from list by level traverse\n",
    "nodes_values = [5,1,3,5,5,None,5]\n",
    "class Node:\n",
    "    def __init__(self, val):\n",
    "        self.val = val\n",
    "        self.left = None\n",
    "        self.right = None\n",
    "\n",
    "def create_binary_tree(level_order):\n",
    "    if not level_order:\n",
    "        return None   \n",
    "    root = Node(level_order[0])\n",
    "    queue = [root]\n",
    "    i = 1\n",
    "    while queue and i < len(level_order):\n",
    "        node = queue.pop(0)\n",
    "        if node:\n",
    "            node.left = Node(level_order[i])\n",
    "            queue.append(node.left)\n",
    "            i += 1\n",
    "            if i < len(level_order):\n",
    "                node.right = Node(level_order[i])\n",
    "                queue.append(node.right)\n",
    "                i += 1\n",
    "    return root\n",
    "\n"
   ]
  },
  {
   "cell_type": "code",
   "execution_count": 2,
   "id": "e32179b8",
   "metadata": {},
   "outputs": [],
   "source": [
    "root = create_binary_tree(nodes_values)"
   ]
  },
  {
   "cell_type": "code",
   "execution_count": 57,
   "id": "f9e40ab8",
   "metadata": {},
   "outputs": [
    {
     "name": "stdout",
     "output_type": "stream",
     "text": [
      "      5\n",
      "   3\n",
      "      None\n",
      "5\n",
      "      5\n",
      "   1\n",
      "      5\n"
     ]
    }
   ],
   "source": [
    "# print binary tree\n",
    "nodes_values = [5,1,3,5,5,None,5]\n",
    "def childNodes(i):\n",
    "     return (2*i)+1, (2*i)+2\n",
    "\n",
    "def traversed(a, i=0, d = 0):\n",
    "    if i >= len(a):\n",
    "        return \n",
    "    l, r =  childNodes(i)\n",
    "    traversed(a, r, d = d+1)\n",
    "    print(\"   \"*d + str(a[i]))\n",
    "    traversed(a, l, d = d+1)\n",
    "\n",
    "traversed(nodes_values)"
   ]
  },
  {
   "cell_type": "code",
   "execution_count": 63,
   "id": "6f4b6a23",
   "metadata": {},
   "outputs": [],
   "source": [
    "# create binary tree from list(nodes) which is levelwise with preorder traverse\n",
    "nodes = [5,1,3,5,5,None,5] # by level\n",
    "n = Node(nodes[0])\n",
    "def childNodes(i):\n",
    "     return (2*i)+1, (2*i)+2\n",
    "\n",
    "def create_tree(a, node, i=0):\n",
    "    l, r =  childNodes(i)\n",
    "    if max(l, r ) >= len(a):\n",
    "        return\n",
    "    node.left, node.right = Node(a[l]), Node(a[r])\n",
    "    create_tree(a, node.left, l)\n",
    "    create_tree(a, node.right, r)\n",
    "\n",
    "create_tree(nodes, n)"
   ]
  },
  {
   "cell_type": "code",
   "execution_count": 70,
   "id": "629ab4eb",
   "metadata": {},
   "outputs": [],
   "source": [
    "if []:\n",
    "    print(True)"
   ]
  },
  {
   "cell_type": "code",
   "execution_count": 75,
   "id": "2d80a5e3",
   "metadata": {},
   "outputs": [
    {
     "name": "stdout",
     "output_type": "stream",
     "text": [
      "5\n",
      "1\n",
      "3\n",
      "5\n",
      "5\n",
      "None\n",
      "5\n"
     ]
    }
   ],
   "source": [
    "# print binary tree by level traverse (without recursion)\n",
    "queue = [n]\n",
    "while queue:\n",
    "    node = queue.pop(0)\n",
    "    print(node.val)\n",
    "    if node.left:\n",
    "        queue.append(node.left)\n",
    "    if node.right:\n",
    "        queue.append(node.right)"
   ]
  },
  {
   "cell_type": "code",
   "execution_count": 66,
   "id": "1429bdca",
   "metadata": {},
   "outputs": [
    {
     "name": "stdout",
     "output_type": "stream",
     "text": [
      "5\n",
      "1\n",
      "5\n",
      "5\n",
      "3\n",
      "None\n",
      "5\n"
     ]
    }
   ],
   "source": [
    "# print binary tree postorder traverse (recursion)\n",
    "def printPreorder(root):\n",
    " \n",
    "    if root:\n",
    " \n",
    "        # First print the data of node\n",
    "        print(root.val),\n",
    " \n",
    "        # Then recur on left child\n",
    "        printPreorder(root.left)\n",
    " \n",
    "        # Finally recur on right child\n",
    "        printPreorder(root.right)\n",
    "printPreorder(n)"
   ]
  },
  {
   "cell_type": "code",
   "execution_count": 42,
   "id": "2900273a",
   "metadata": {},
   "outputs": [],
   "source": [
    "# find unival subtrees\n",
    "class Solution(object):\n",
    "    def __init__(self):\n",
    "        self.count1=0\n",
    "        self.count2=0\n",
    "    \n",
    "    def countUnivalSubtrees(self, root):\n",
    "        if not root:\n",
    "            return 0\n",
    "        if not root.left and not root.right: \n",
    "            self.count1 += 1\n",
    "            return 1\n",
    "        \n",
    "        return self.countUnivalSubtrees(root.left) + self.countUnivalSubtrees(root.right) + (1 if self.same(root, root.val) else 0)\n",
    "\n",
    "    def same(self, root, val):\n",
    "        if not root: return True\n",
    "        if root.val != val: return False\n",
    "        return self.same(root.left, val) and self.same(root.right, val)"
   ]
  },
  {
   "cell_type": "code",
   "execution_count": 6,
   "id": "0921af07",
   "metadata": {},
   "outputs": [],
   "source": [
    "# solution leetcode, genius\n",
    "class Solution(object):\n",
    "    def countUnivalSubtrees(self, root):\n",
    "        self.count = 0\n",
    "        self.is_valid_part(root, None)\n",
    "        return self.count\n",
    "\n",
    "\n",
    "    def is_valid_part(self, node, val):\n",
    "\n",
    "        # considered a valid subtree\n",
    "        if node is None: return True\n",
    "\n",
    "        # check if node.left and node.right are univalue subtrees of value node.val\n",
    "        if not all([self.is_valid_part(node.left, node.val),\n",
    "                    self.is_valid_part(node.right, node.val)]):\n",
    "            return False\n",
    "\n",
    "        # if it passed the last step then this a valid subtree - increment\n",
    "        self.count += 1\n",
    "\n",
    "        # at this point we know that this node is a univalue subtree of value node.val\n",
    "        # pass a boolean indicating if this is a valid subtree for the parent node\n",
    "        return node.val == val"
   ]
  },
  {
   "cell_type": "code",
   "execution_count": 8,
   "id": "c152fd7e",
   "metadata": {},
   "outputs": [
    {
     "data": {
      "text/plain": [
       "4"
      ]
     },
     "execution_count": 8,
     "metadata": {},
     "output_type": "execute_result"
    }
   ],
   "source": [
    "s = Solution()\n",
    "s.countUnivalSubtrees(root)"
   ]
  },
  {
   "cell_type": "code",
   "execution_count": null,
   "id": "b738f4db",
   "metadata": {},
   "outputs": [],
   "source": []
  }
 ],
 "metadata": {
  "kernelspec": {
   "display_name": "Python 3.9.12 ('base')",
   "language": "python",
   "name": "python3"
  },
  "language_info": {
   "codemirror_mode": {
    "name": "ipython",
    "version": 3
   },
   "file_extension": ".py",
   "mimetype": "text/x-python",
   "name": "python",
   "nbconvert_exporter": "python",
   "pygments_lexer": "ipython3",
   "version": "3.9.12"
  },
  "varInspector": {
   "cols": {
    "lenName": 16,
    "lenType": 16,
    "lenVar": 40
   },
   "kernels_config": {
    "python": {
     "delete_cmd_postfix": "",
     "delete_cmd_prefix": "del ",
     "library": "var_list.py",
     "varRefreshCmd": "print(var_dic_list())"
    },
    "r": {
     "delete_cmd_postfix": ") ",
     "delete_cmd_prefix": "rm(",
     "library": "var_list.r",
     "varRefreshCmd": "cat(var_dic_list()) "
    }
   },
   "types_to_exclude": [
    "module",
    "function",
    "builtin_function_or_method",
    "instance",
    "_Feature"
   ],
   "window_display": false
  },
  "vscode": {
   "interpreter": {
    "hash": "1cc7f3e9408a3aea9cd6dc3e41c7a9aab8fbe83962c097cebbc31bdb6fbe3309"
   }
  }
 },
 "nbformat": 4,
 "nbformat_minor": 5
}
